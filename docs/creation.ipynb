{
 "cells": [
  {
   "cell_type": "markdown",
   "id": "0bb4cea5",
   "metadata": {},
   "source": [
    "# Create Your package"
   ]
  },
  {
   "cell_type": "markdown",
   "id": "5b5c4801",
   "metadata": {},
   "source": [
    "## [Advanced] Make your logo!"
   ]
  },
  {
   "cell_type": "markdown",
   "id": "e0a425e4",
   "metadata": {},
   "source": [
    "It's always nice to brand your package with a logo and/or a favicon."
   ]
  },
  {
   "cell_type": "markdown",
   "id": "be32d9f5",
   "metadata": {},
   "source": [
    "- Create your pictures. If you have no inspiration, you can use https://favicon.io/favicon-generator/ to make one in a few seconds from a text (e.g. the acronym of your package). \n",
    "- Edit your documentation files to include them.\n",
    "\n",
    "favicon is just a regular `png` file with small dimensions (16X16 or 32X32) and extension `.ico`. To include it, edit your `docs/conf.py` file to include:\n",
    "\n",
    "```python\n",
    "html_favicon = 'filename_of_the_fav.ico'\n",
    "```\n",
    "\n",
    "Same thing for the logo, which will be displayed in the upper left corner of your documentation:\n",
    "\n",
    "```python\n",
    "html_logo = 'filename_of_the_logo.png'\n",
    "```\n",
    "\n",
    "By default, Sphinx will look for the files in the directory where `conf.py` lies (usually `docs`). If you like to clean up, you can create a dedicated subdir for static files, like `_static`, and tell `conf.py` about it:\n",
    "```python\n",
    "html_static_path = ['_static']\n",
    "```\n"
   ]
  }
 ],
 "metadata": {
  "kernelspec": {
   "display_name": "Python 3 (ipykernel)",
   "language": "python",
   "name": "python3"
  },
  "language_info": {
   "codemirror_mode": {
    "name": "ipython",
    "version": 3
   },
   "file_extension": ".py",
   "mimetype": "text/x-python",
   "name": "python",
   "nbconvert_exporter": "python",
   "pygments_lexer": "ipython3",
   "version": "3.11.4"
  },
  "toc": {
   "base_numbering": 1,
   "nav_menu": {},
   "number_sections": true,
   "sideBar": true,
   "skip_h1_title": false,
   "title_cell": "Table of Contents",
   "title_sidebar": "Contents",
   "toc_cell": false,
   "toc_position": {},
   "toc_section_display": true,
   "toc_window_display": false
  }
 },
 "nbformat": 4,
 "nbformat_minor": 5
}
