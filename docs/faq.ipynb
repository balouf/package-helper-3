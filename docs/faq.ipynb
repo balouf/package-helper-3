{
 "cells": [
  {
   "cell_type": "markdown",
   "id": "328ddf90",
   "metadata": {},
   "source": [
    "# F.A.Q."
   ]
  },
  {
   "cell_type": "markdown",
   "id": "415ba91f",
   "metadata": {},
   "source": [
    "## I am used to `setup.py` to deploy my package. Why should I bother with Poetry?"
   ]
  },
  {
   "cell_type": "markdown",
   "id": "7f436bd9",
   "metadata": {},
   "source": [
    "Before poetry, deploying packages required multiple files, e.g.:\n",
    "\n",
    "- A `setup.py` file with some informations about the package and its dependencies;\n",
    "- A `requirements.txt` file to facilitate the installation of dependencies with `pip`;\n",
    "- A `requirements_dev.txt` file to describe the additional packages required to develop the package;\n",
    "- Some dedicated config files like `tox.ini`, `pytest.ini`, ...\n",
    "\n",
    "All these files were to be update manually in most cases, leading to mismatch/conflicts between dependencies. And the environments were to be handled separately.\n",
    "\n",
    "Poetry uses two files:\n",
    "\n",
    "- `pyproject.toml` tells everything you need to know about your package, nicely split into sections.\n",
    "- `poetry.lock` gives an exhaustive set of exact versions (including where to find them) that works.\n",
    "\n",
    "The benefits are:\n",
    "\n",
    "- `pyproject.toml` can be automatically maintained by poetry commands to add/remove dependencies, update versions, ...\n",
    "- If required, it is easy to perform manual editions.\n",
    "- You never need to edit `poetry.lock`, it is automatically managed.\n",
    "- Dependencies can be split into groups, e.g. doc dependencies, dev dependencies, graphic dependencies... and you can customize the groups you want to install.\n",
    "- Dependencies not available on `pip` can be integrated (e.g. private repositories).\n",
    "- Installing your development environment is simple as `$ poetry install`. Installing the package in the main environment or pushing to pypi are also straightforward.\n",
    "\n",
    "I used [Package Helper 2 (PH2)](https://package-helper-2.readthedocs.io/en/latest/index.html) a lot to create my own packages. It was a great tool to bootstrap a new package in a couple of minutes, but it was based on a `setup.py` approach. After one bite of Poetry I realized `setup.py` was not an option for me anymore. This motivated the creation of [Package Helper 3](https://balouf.github.io/package-helper-3/index.html)."
   ]
  },
  {
   "cell_type": "markdown",
   "id": "8c32b3ae",
   "metadata": {},
   "source": [
    "## I have a great package based on `setup.py`. How can I switch to `poetry`?"
   ]
  },
  {
   "cell_type": "markdown",
   "id": "323bed1c",
   "metadata": {},
   "source": [
    "I personally find that making a manual conversion has a good simplicity/efficiency trade-off.\n",
    "\n",
    "- Start with a fresh `git clone my_package` (no venv or anything).\n",
    "- Open `setup.py` in some text editor to have a look at your parameters (current version, description, requirements...)\n",
    "- Create your `pyproject.toml` project with\n",
    "\n",
    "```console\n",
    "$ poetry init\n",
    "```\n",
    "\n",
    "- Answer the questions. When asked for dependencies, you can add the content of `requirements` from your `setup.py`.\n",
    "- By default, poetry associates `readme` with `README.md`. If your readme is in another format, e.g. `README.rst`, edit the `pyproject.toml` file accordingly.\n",
    "- Try to install an environment\n",
    "\n",
    "```console\n",
    "$ poetry install\n",
    "```\n",
    "\n",
    "Depending on your dependencies, poetry may complain of compatibility issues.\n",
    "\n",
    "- Resolve them by editing `pyproject.toml` and running `poetry install` until it works.\n",
    "- Poetry usually gives useful suggestions when it fails.\n",
    "- Rule of thumb: don't hesitate to sacrifice compatibility with older Python versions. For example, if your current version has Python >= 3.6 compatibility and the numpy (the latest version, which Poetry suggested you to install) requires Python>=3.9, just accept that your future releases will have Python>=3.9 compatibility.\n",
    "\n",
    "At this point, the venv you have is Poetry-based. Open your project in Pycharm and run your tests. Adjust until they work.\n",
    "\n",
    "Most `.ini` files, e.g. for tox or pytest, can be transferred into `pyproject.toml`. Google how to do it.\n",
    "\n",
    "You should now be able to remove the legacy files. Check you didn't break anything.\n",
    "\n",
    "Push your changes on GitHub (preferably on a secondary branch) to check it works.\n",
    "\n",
    "Bump&Release!"
   ]
  },
  {
   "cell_type": "markdown",
   "id": "1f052792",
   "metadata": {},
   "source": [
    "## Do I need to enter my name/email/github_login everytime I make a package?"
   ]
  },
  {
   "cell_type": "markdown",
   "id": "724fc02b",
   "metadata": {},
   "source": [
    "No.\n",
    "\n",
    "If you use Package Helper 3 / Cookiecutter a lot, you’ll find it useful to have a user config file. By default Cookiecutter tries to retrieve settings from a .cookiecutterrc file in your home directory. Recommended template for PH3:\n",
    "\n",
    "```yaml\n",
    "default_context:\n",
    "    full_name: \"Your Name Here\"\n",
    "    email: \"my.name@example.com\"\n",
    "    github_username: \"my-gh-username\"\n",
    "```\n",
    "\n",
    "(From https://cookiecutter.readthedocs.io/en/stable/advanced/user_config.html)"
   ]
  },
  {
   "cell_type": "markdown",
   "id": "d1c84f95",
   "metadata": {},
   "source": [
    "## How to do *some exotic stuff* with Poetry?"
   ]
  },
  {
   "cell_type": "markdown",
   "id": "efaa81c2",
   "metadata": {},
   "source": [
    "Google is your friend. Most of the time, you just need a special line in `pyproject.toml`. A few examples from my personal experience:\n",
    "\n",
    "### Install from a private repository:\n",
    "\n",
    "```toml\n",
    "my-private-package = {git = \"git@github.com:My-Corporation/my-private-package\"}\n",
    "```\n",
    "\n",
    "It requires that the machine where `poetry install` runs has a git with credentials to your private repo.\n",
    "\n",
    "### Install spacy language model\n",
    "\n",
    "Spacy usually requires a language model which you need to install separately, e.g. with `python -m spacy download en_core_web_sm`. It seems that you can do this inside Poetry with the magic line:\n",
    "\n",
    "```toml\n",
    "en_core_web_sm = {url = \"https://github.com/explosion/spacy-models/releases/download/en_core_web_sm-3.7.0/en_core_web_sm-3.7.0.tar.gz\"}\n",
    "```\n",
    "\n",
    "This avoids you to have to run a post-install script, but you will have to manually maintain consistency between the versions of spacy and your model."
   ]
  },
  {
   "cell_type": "markdown",
   "id": "49d9a02f",
   "metadata": {},
   "source": [
    "## Which Python distribution should I use?"
   ]
  },
  {
   "cell_type": "markdown",
   "id": "107a3916",
   "metadata": {},
   "source": [
    "There is no good answer here as long as you don't install a 2.7 version. It's like asking Mac or PC.\n",
    "\n",
    "But if you have no idea, here are two popular distributions:\n",
    "\n",
    "- [Anaconda](https://www.anaconda.com/download)\n",
    "  - Pros: Anaconda installs by default a lot of common packages so you will not have to install them yourself (e.g. Numpy, Matplotlib, Jupyter, Pandas...).\n",
    "  - Cons: the distribution is very large to install and the included package manager (conda) can clash with PIP.\n",
    "- [Vanilla Python](https://www.python.org/downloads/)\n",
    "  - Pro: Minimalist: as clean as possible.\n",
    "  - Cons: Minimalist: you'll have to install your favorite packages on your own.\n",
    "  \n",
    "Anaconda is recommended for beginners who do not want to get too dirty in package management and are not afraid of re-installing the distribution once a year because of clash in package management.\n",
    "\n",
    "Vanilla Python is recommended for more experienced users who wants a full control of their environment(s) and are not afraid of re-installing the distribution once a year to stay sharp and up-to-date."
   ]
  },
  {
   "cell_type": "markdown",
   "id": "1d85b558",
   "metadata": {},
   "source": [
    "## What's the git default branch name?"
   ]
  },
  {
   "cell_type": "markdown",
   "id": "85546bc3",
   "metadata": {},
   "source": [
    "The git default branch name is used to name the principal branch in your git projects. It used to be \"master\" but the current standard is to call it \"main\". When installing `git` you should setup \"main\" as default during the setup. The important thing is that the settings of your git application should be consistent with the setting of your **new** projects (once properly initiated, a project has its own branch system so there is no issue to manage an existing \"master\"-flavored project with a \"main\"-flavored git). \n",
    "\n",
    "To change the default branch name after installation you can try:\n",
    "\n",
    "```console\n",
    "$ git config --global init.defaultBranch main\n",
    "```"
   ]
  },
  {
   "cell_type": "markdown",
   "id": "f192c61c",
   "metadata": {},
   "source": [
    "## How to call a method from a prompt?"
   ]
  },
  {
   "cell_type": "markdown",
   "id": "f89ac118",
   "metadata": {},
   "source": [
    "With Poetry, you can easily setup commands to be executed directly from a prompt (a.k.a. Command Line Interface, CLI). This is made by linking some keywords (*entry points*) to methods of your package. The declarations are made in the `[tool.poetry.scripts]` section of `pyproject.toml`. \n",
    "\n",
    "For example, if you choose a CLI when creating your project, you should have something like this:\n",
    "\n",
    "```toml\n",
    "[tool.poetry.scripts]\n",
    "my_first_ph3_package = 'my_first_ph3_package.cli:main'\n",
    "```\n",
    "\n",
    "The key is the *entry point*, e.g. the command that will trigger the execution of your script. By default, PH3 sets up an entry point name like the package name but you may change that!\n",
    "\n",
    "The value tells where is located the method you want to execute. In the example above, it is the `main` method of the `cli.py` file located at the root of the `my_first_ph3_package` package.\n",
    "\n",
    "**Entry points and editable mode**: it is important to understand that the *editable* mode of a package is *passive*. It just tell Python to look directly at the location of the package you are working on instead of the place where regular packages are installed. In particular, just editing the `pyproject.toml` has no effect on the available entry points so if you change them you need to refresh your installations: inside your project directory and outside the dedicated environment, do:\n",
    "\n",
    "```console\n",
    "$ poetry install\n",
    "$ pip install -e . -U\n",
    "```"
   ]
  },
  {
   "cell_type": "markdown",
   "id": "375883bb",
   "metadata": {},
   "source": [
    "## How to add a logo?\n",
    "\n",
    "It's always nice to brand your package with a logo and/or a favicon.\n",
    "\n",
    "- Create your pictures. If you have no inspiration, you can use https://favicon.io/favicon-generator/ to make one in a few seconds from a text (e.g. the acronym of your package). \n",
    "- Edit your documentation files to include them.\n",
    "\n",
    "favicon is just a regular `png` file with small dimensions (16X16 or 32X32) and extension `.ico`. To include it, edit your `docs/conf.py` file to include:\n",
    "\n",
    "```python\n",
    "html_favicon = 'filename_of_the_fav.ico'\n",
    "```\n",
    "\n",
    "Same thing for the logo, which will be displayed in the upper left corner of your documentation:\n",
    "\n",
    "```python\n",
    "html_logo = 'filename_of_the_logo.png'\n",
    "```\n",
    "\n",
    "By default, Sphinx will look for the files in the directory where `conf.py` lies (usually `docs`). If you like to clean up, you can create a dedicated subdir for static files, like `_static`, and tell `conf.py` about it:\n",
    "```python\n",
    "html_static_path = ['_static']\n",
    "```\n"
   ]
  },
  {
   "cell_type": "markdown",
   "id": "9c8bc864",
   "metadata": {},
   "source": [
    "## PyPi"
   ]
  },
  {
   "cell_type": "markdown",
   "id": "730bb351",
   "metadata": {},
   "source": [
    "### What if I lost my PyPi token?"
   ]
  },
  {
   "cell_type": "markdown",
   "id": "5b7eb446",
   "metadata": {},
   "source": [
    "Just create a new one."
   ]
  },
  {
   "cell_type": "markdown",
   "id": "ed235acc",
   "metadata": {},
   "source": [
    "### What if my PyPi token is compromised (e.g. I published it in a public page by mistake)?"
   ]
  },
  {
   "cell_type": "markdown",
   "id": "6394b635",
   "metadata": {},
   "source": [
    "Immediately delete the compromised token and create a new one. You will have to change the `PYPI_TOKEN` secret of all your packages based on the old token."
   ]
  }
 ],
 "metadata": {
  "kernelspec": {
   "display_name": "Python 3 (ipykernel)",
   "language": "python",
   "name": "python3"
  },
  "language_info": {
   "codemirror_mode": {
    "name": "ipython",
    "version": 3
   },
   "file_extension": ".py",
   "mimetype": "text/x-python",
   "name": "python",
   "nbconvert_exporter": "python",
   "pygments_lexer": "ipython3",
   "version": "3.11.4"
  },
  "toc": {
   "base_numbering": 1,
   "nav_menu": {},
   "number_sections": true,
   "sideBar": true,
   "skip_h1_title": false,
   "title_cell": "Table of Contents",
   "title_sidebar": "Contents",
   "toc_cell": false,
   "toc_position": {},
   "toc_section_display": true,
   "toc_window_display": true
  }
 },
 "nbformat": 4,
 "nbformat_minor": 5
}
