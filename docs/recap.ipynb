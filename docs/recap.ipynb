{
 "cells": [
  {
   "cell_type": "markdown",
   "id": "6ecdc496",
   "metadata": {},
   "source": [
    "# Quick recap"
   ]
  },
  {
   "cell_type": "markdown",
   "id": "38ccc401",
   "metadata": {},
   "source": [
    "If you used PH3 before and do not want to read all the lengthy tutorials again, here is an abridged version."
   ]
  },
  {
   "cell_type": "markdown",
   "id": "1c16b1cf",
   "metadata": {},
   "source": [
    "## Preparation"
   ]
  },
  {
   "cell_type": "markdown",
   "id": "e4fba814",
   "metadata": {},
   "source": [
    "- Softwares Git, Poetry, Pycharm, PH3 (`pip install package-helper-3`)\n",
    "- Poetry:\n",
    "\n",
    "```console\n",
    "$ poetry config virtualenvs.in-project true\n",
    "$ poetry self add poetry-bumpversion\n",
    "$ poetry self add poetry-plugin-up\n",
    "```\n",
    "\n",
    "- PH3: create a `.cookiecutterrc` file (optional)\n",
    "- Accounts: GitHub, PyPi\n",
    "- PyPi: create a token (and save it!)\n",
    "- Link PyCharm to your Github account"
   ]
  },
  {
   "cell_type": "markdown",
   "id": "121ac2c6",
   "metadata": {},
   "source": [
    "## Creating a new package"
   ]
  },
  {
   "cell_type": "markdown",
   "id": "ae8b0a69",
   "metadata": {},
   "source": [
    "- Go to the parent directory of your future project\n",
    "- In a terminal:\n",
    "\n",
    "```console\n",
    "$ ph3\n",
    "$ cd my-project-slug\n",
    "$ poetry install\n",
    "$ pip install -e .\n",
    "```\n",
    "- Pycharm. \n",
    "  - Check run test & documentation.\n",
    "  - Check local coverage and built documentation html files.\n",
    "  - Push project to GitHub.\n",
    "- Github\n",
    "  - Check the gh actions.\n",
    "  - Setup gh-pages as your public documentation.\n",
    "  - Install codecov and pypi tokens as project secrets.\n",
    "- Push a small commit, check everything (documentation, badges, coverage) is OK\n",
    "- Start working on your project.\n",
    "  - Frequently run your configurations (tests & documentation).\n",
    "  - Remind to update docs (especially reference) and tests, in particular when you change the structure."
   ]
  }
 ],
 "metadata": {
  "kernelspec": {
   "display_name": "Python 3 (ipykernel)",
   "language": "python",
   "name": "python3"
  },
  "language_info": {
   "codemirror_mode": {
    "name": "ipython",
    "version": 3
   },
   "file_extension": ".py",
   "mimetype": "text/x-python",
   "name": "python",
   "nbconvert_exporter": "python",
   "pygments_lexer": "ipython3",
   "version": "3.11.4"
  },
  "toc": {
   "base_numbering": 1,
   "nav_menu": {},
   "number_sections": true,
   "sideBar": true,
   "skip_h1_title": false,
   "title_cell": "Table of Contents",
   "title_sidebar": "Contents",
   "toc_cell": false,
   "toc_position": {},
   "toc_section_display": true,
   "toc_window_display": false
  }
 },
 "nbformat": 4,
 "nbformat_minor": 5
}
