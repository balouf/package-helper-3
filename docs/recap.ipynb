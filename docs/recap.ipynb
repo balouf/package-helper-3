{
 "cells": [
  {
   "cell_type": "markdown",
   "id": "5a165681",
   "metadata": {},
   "source": [
    "# Quick recap"
   ]
  },
  {
   "cell_type": "markdown",
   "id": "59bf94e3",
   "metadata": {},
   "source": [
    "If you used PH3 before and do not want to read all the lengthy tutorials again, here is an abridged version."
   ]
  },
  {
   "cell_type": "markdown",
   "id": "eb83a434",
   "metadata": {},
   "source": [
    "## Preparation"
   ]
  },
  {
   "cell_type": "markdown",
   "id": "cd47645b",
   "metadata": {},
   "source": [
    "- Softwares Pandoc, Git, Poetry, Pycharm, PH3 (`pip install package-helper-3`)\n",
    "- Poetry:\n",
    "\n",
    "```console\n",
    "$ poetry config virtualenvs.in-project true\n",
    "$ poetry self add poetry-bumpversion\n",
    "$ poetry self add poetry-plugin-up\n",
    "```\n",
    "\n",
    "- PH3: [create a `.cookiecutterrc` file](https://balouf.github.io/package-helper-3/faq.html#Do-I-need-to-enter-my-name/email/github_login-everytime-I-make-a-package?) (optional)\n",
    "- Accounts: GitHub, PyPi\n",
    "- PyPi: create a token (and save it!)\n",
    "- Link PyCharm to your Github account"
   ]
  },
  {
   "cell_type": "markdown",
   "id": "d579a993",
   "metadata": {},
   "source": [
    "## Creating a new package"
   ]
  },
  {
   "cell_type": "markdown",
   "id": "291f4e4a",
   "metadata": {},
   "source": [
    "- Go to the parent directory of your future project\n",
    "- In a terminal:\n",
    "\n",
    "```console\n",
    "$ ph3\n",
    "$ cd my-project-slug\n",
    "$ poetry install\n",
    "$ pip install -e .\n",
    "```\n",
    "- Pycharm. \n",
    "  - Check run test & documentation.\n",
    "  - Check local coverage and built documentation html files.\n",
    "  - Push project to GitHub.\n",
    "- Github\n",
    "  - Check the gh actions.\n",
    "  - Setup gh-pages as your public documentation.\n",
    "  - Install codecov and pypi tokens as project secrets.\n",
    "- Push a small commit, check everything (documentation, badges, coverage) is OK\n",
    "- Start working on your project.\n",
    "  - Frequently run your configurations (tests & documentation).\n",
    "  - Remind to update docs (especially reference) and tests, in particular when you change the structure."
   ]
  },
  {
   "cell_type": "markdown",
   "id": "3e5b0ec2",
   "metadata": {},
   "source": [
    "## Make a release"
   ]
  },
  {
   "cell_type": "markdown",
   "id": "a7a491f6",
   "metadata": {},
   "source": [
    "- Bump your dependencies (`poetry up`)\n",
    "- Import important classes in main `__init__.py`\n",
    "- Check your docs (references and tutorials)\n",
    "- Bulletproof tests (coverage!) and documentation building (look up Sphinx warnings)\n",
    "- Bump version of your package (`poetry version patch/minor/major`)\n",
    "- Update `HISTORY.rst`, beware of strict `.rst` compliance\n",
    "- Commit/Push, merge into `main`/`master` if you were on a secondary branch\n",
    "- Create release on GitHub. Use `vx.y.z` convention for the tag\n",
    "- Wait for the badge to be updated, check the release on PyPi"
   ]
  }
 ],
 "metadata": {
  "kernelspec": {
   "display_name": "Python 3 (ipykernel)",
   "language": "python",
   "name": "python3"
  },
  "language_info": {
   "codemirror_mode": {
    "name": "ipython",
    "version": 3
   },
   "file_extension": ".py",
   "mimetype": "text/x-python",
   "name": "python",
   "nbconvert_exporter": "python",
   "pygments_lexer": "ipython3",
   "version": "3.11.4"
  },
  "toc": {
   "base_numbering": 1,
   "nav_menu": {},
   "number_sections": true,
   "sideBar": true,
   "skip_h1_title": false,
   "title_cell": "Table of Contents",
   "title_sidebar": "Contents",
   "toc_cell": false,
   "toc_position": {},
   "toc_section_display": true,
   "toc_window_display": false
  }
 },
 "nbformat": 4,
 "nbformat_minor": 5
}
