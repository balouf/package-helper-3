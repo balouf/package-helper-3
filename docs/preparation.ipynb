{
 "cells": [
  {
   "cell_type": "markdown",
   "id": "3b6d7f23",
   "metadata": {},
   "source": [
    "# Preliminaries: Once and for All"
   ]
  },
  {
   "cell_type": "markdown",
   "id": "2d3b0cb5",
   "metadata": {},
   "source": [
    "## Install a Python distribution"
   ]
  },
  {
   "cell_type": "markdown",
   "id": "52a9abc3",
   "metadata": {},
   "source": [
    "Ensure that the following requirements are made:\n",
    "\n",
    "- The Python distribution is recent enough. As a rule of thumb, you should aim to keep one of the last three stable distributions at all times, e.g. 3.9, 3.10, 3.11 if 3.11 is the last stable (non-beta) release.\n",
    "- The package manager [PIP](https://pip.pypa.io/en/stable/) is included."
   ]
  },
  {
   "cell_type": "markdown",
   "id": "b10d6bc9",
   "metadata": {},
   "source": [
    "Examples of distributions available:\n",
    "\n",
    "- [Anaconda](https://www.anaconda.com/download)\n",
    "  - Pros: Anaconda installs by default a lot of common packages so you will not have to install them yourself (e.g. Numpy, Matplotlib, Jupyter, Pandas...).\n",
    "  - Cons: the distribution is very large to install and the including package manager (conda) can clash with PIP.\n"
   ]
  },
  {
   "cell_type": "markdown",
   "id": "eafd2117",
   "metadata": {
    "ExecuteTime": {
     "end_time": "2023-10-18T08:20:26.157990Z",
     "start_time": "2023-10-18T08:20:26.135641Z"
    }
   },
   "source": [
    "Create Accounts on the Websites\n",
    "Ensure that you have accounts (preferably with the same login) on:\n",
    "\n",
    "GitHub,\n",
    "\n",
    "Codecov,\n",
    "\n",
    "PyPI.\n",
    "\n",
    "Install Cookiecutter\n",
    "In a terminal (e.g. Anaconda Prompt):\n",
    "\n",
    "pip install cookiecutter\n",
    "Install Git\n",
    "Git will be used to download the package template that will be used by Cookiecutter.\n",
    "\n",
    "Install git: https://git-scm.com/downloads. You may need to restart your computer.\n",
    "\n",
    "Change the Documentation Style in PyCharm\n",
    "Perform this step only if you want to use the Numpy documentation style (which we recommend).\n",
    "\n",
    "In the “Welcome to PyCharm” window (before you open a project): Customize → All settings → Tools → Python Integrated Tools → Docstrings → Docstring format → NumPy.\n",
    "\n",
    "Register Your GitHub Account in PyCharm\n",
    "In the “Welcome to PyCharm” window (before you open a project): Customize → All settings → Version Control → GitHub → Add account → Log In via GitHub → log in and accept to grant access."
   ]
  }
 ],
 "metadata": {
  "kernelspec": {
   "display_name": "Python 3 (ipykernel)",
   "language": "python",
   "name": "python3"
  },
  "language_info": {
   "codemirror_mode": {
    "name": "ipython",
    "version": 3
   },
   "file_extension": ".py",
   "mimetype": "text/x-python",
   "name": "python",
   "nbconvert_exporter": "python",
   "pygments_lexer": "ipython3",
   "version": "3.11.4"
  },
  "toc": {
   "base_numbering": 1,
   "nav_menu": {},
   "number_sections": true,
   "sideBar": true,
   "skip_h1_title": false,
   "title_cell": "Table of Contents",
   "title_sidebar": "Contents",
   "toc_cell": false,
   "toc_position": {},
   "toc_section_display": true,
   "toc_window_display": false
  }
 },
 "nbformat": 4,
 "nbformat_minor": 5
}
