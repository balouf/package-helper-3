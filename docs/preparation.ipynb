{
 "cells": [
  {
   "cell_type": "markdown",
   "id": "781428cc",
   "metadata": {},
   "source": [
    "# Preliminaries: Once and for All"
   ]
  },
  {
   "cell_type": "markdown",
   "id": "fe27412c",
   "metadata": {},
   "source": [
    "## Install a Python distribution (if you don't have one already)"
   ]
  },
  {
   "cell_type": "markdown",
   "id": "4e2464da",
   "metadata": {},
   "source": [
    "Ensure that the following requirements are made:\n",
    "\n",
    "- The Python distribution is recent enough. As a rule of thumb, you should aim to keep one of the last three stable distributions at all times, e.g. 3.10, 3.11, 3.12 if 3.12 is the last stable (non-beta) release.\n",
    "- The package manager [PIP](https://pip.pypa.io/en/stable/) is included."
   ]
  },
  {
   "cell_type": "markdown",
   "id": "44fd5543",
   "metadata": {},
   "source": [
    "Examples of distributions available:\n",
    "\n",
    "- [Anaconda](https://www.anaconda.com/download)\n",
    "  - Pros: Anaconda installs by default a lot of common packages so you will not have to install them yourself (e.g. Numpy, Matplotlib, Jupyter, Pandas...).\n",
    "  - Cons: the distribution is very large to install and the including package manager (conda) can clash with PIP.\n",
    "- [Vanilla Python](https://www.python.org/downloads/)\n",
    "  - Pro: Minimalist: as clean as possible.\n",
    "  - Cons: Minimalist: you'll have to install your favorite packages on your own.\n",
    "  \n",
    "Anaconda is recommended for beginners who do not want to get too dirty in package management and are not afraid of re-installing the distribution once a year because of clash in package management.\n",
    "\n",
    "Vanilla Python is recommended for more experienced users who wants a full control of their environment(s) and are not afraid of re-installing the distribution once a year to stay sharp and up-to-date."
   ]
  },
  {
   "cell_type": "markdown",
   "id": "4ae10347",
   "metadata": {
    "ExecuteTime": {
     "end_time": "2023-10-18T08:20:26.157990Z",
     "start_time": "2023-10-18T08:20:26.135641Z"
    }
   },
   "source": [
    "## Create Accounts on the Websites"
   ]
  },
  {
   "cell_type": "markdown",
   "id": "85a253b3",
   "metadata": {
    "ExecuteTime": {
     "end_time": "2023-10-18T08:20:26.157990Z",
     "start_time": "2023-10-18T08:20:26.135641Z"
    }
   },
   "source": [
    "Ensure that you have accounts (preferably with the same login) on:\n",
    "\n",
    "- [GitHub](https://github.com/),\n",
    "\n",
    "- [Codecov](https://app.codecov.io/gh/),\n",
    "\n",
    "- [PyPI](https://pypi.org/)."
   ]
  },
  {
   "cell_type": "markdown",
   "id": "0907cf9e",
   "metadata": {
    "ExecuteTime": {
     "end_time": "2023-10-18T08:20:26.157990Z",
     "start_time": "2023-10-18T08:20:26.135641Z"
    }
   },
   "source": [
    "## Install Git"
   ]
  },
  {
   "cell_type": "markdown",
   "id": "08aa4b4e",
   "metadata": {
    "ExecuteTime": {
     "end_time": "2023-10-18T08:20:26.157990Z",
     "start_time": "2023-10-18T08:20:26.135641Z"
    }
   },
   "source": [
    "*Git will be used to maintain your projects branches locally and remotely.*\n",
    "\n",
    "Install git: https://git-scm.com/downloads. You may need to restart your computer.\n",
    "\n",
    "Test it:\n",
    "\n",
    "```console\n",
    "$ git --version\n",
    "```\n",
    "\n",
    "Ensure your version is recent enough (>=2.40).\n",
    "\n",
    "**Important: main branch name** It is the name of your default branch in your git projects. It used to be \"master\" but the current standard is to call it \"main\". On a fresh install, you should setup to \"main\" during installation. The important thing is that the the settings of your git application should be consistent with the setting of your **new** projects (there is no issue to manage an existing \"master\"-based project with a \"main\"-based git). To ensure consistency afterwards you can try:\n",
    "\n",
    "```console\n",
    "$ git config --global init.defaultBranch main\n",
    "```"
   ]
  },
  {
   "cell_type": "markdown",
   "id": "53bacfaf",
   "metadata": {},
   "source": [
    "## Install Poetry"
   ]
  },
  {
   "cell_type": "markdown",
   "id": "5dc2b222",
   "metadata": {},
   "source": [
    "[Poetry](https://python-poetry.org/) will handle all the issues related to package management (dependencies, versioning, deployment) for you.\n",
    "\n",
    "To install it, please follow the instructions from https://python-poetry.org/docs/#installation\n",
    "\n",
    "Check that it works:\n",
    "\n",
    "```console\n",
    "$ poetry --version\n",
    "```\n",
    "\n",
    "Additionally the following commands are recommended:\n",
    "\n",
    "```console\n",
    "$ poetry config virtualenvs.in-project true\n",
    "$ poetry self add poetry-bumpversion\n",
    "```\n",
    "\n",
    "As one can guess, the first command tells that the virtual environment (venv) of a project should be created inside the project instead of within a centralized directory. It facilitates keeping track of the matchings between projects and venvs.\n",
    "\n",
    "The second command installs a poetry plugin that facilitates the management of the version number of your package."
   ]
  },
  {
   "cell_type": "markdown",
   "id": "5c4be5f3",
   "metadata": {},
   "source": [
    "**[Optional reading] Interest of Poetry**\n",
    "\n",
    "Before poetry, deploying packages required multiple files, e.g.:\n",
    "\n",
    "- A `setup.py` file with some informations about the package and its dependencies;\n",
    "- A `requirements.txt` file to facilitate the installation of dependencies with `pip`;\n",
    "- A `requirements_dev.txt` file to describe the additional packages required to develop the package;\n",
    "- Some dedicated config files like `tox.ini`, `pytest.ini`, ...\n",
    "\n",
    "All these files were to be update manually in most cases, leading to mismatch/conflicts between dependencies. And the environments were to be handled separately.\n",
    "\n",
    "Poetry uses two files:\n",
    "\n",
    "- `pyproject.toml` tells everything you need to know about your package, nicely split into sections.\n",
    "- `poetry.lock` gives an exhaustive set of exact versions (including where to find them) that works.\n",
    "\n",
    "The benefits are:\n",
    "\n",
    "- `pyproject.toml` can be automatically maintained by poetry commands to add/remove dependencies, update versions, ...\n",
    "- If required, it is easy to perform manual editions.\n",
    "- You never need to edit `poetry.lock`, it is automatically managed.\n",
    "- Dependencies can be split into groups, e.g. doc dependencies, dev dependencies, graphic dependencies... and you can customize the groups you want to install.\n",
    "- Dependencies not available on `pip` can be integrated (e.g. private repositories).\n",
    "- Installing your development environment is simple as `$ poetry install`. Installing the package in the main environment or pushing to pypi are also straightforward."
   ]
  },
  {
   "cell_type": "markdown",
   "id": "6aaa2187",
   "metadata": {
    "ExecuteTime": {
     "end_time": "2023-10-18T08:20:26.157990Z",
     "start_time": "2023-10-18T08:20:26.135641Z"
    }
   },
   "source": [
    "## Install Package Helper 3"
   ]
  },
  {
   "cell_type": "markdown",
   "id": "e00e5df4",
   "metadata": {},
   "source": [
    "In a terminal (e.g. Anaconda Prompt, Windows Powershell, ...):"
   ]
  },
  {
   "cell_type": "markdown",
   "id": "c4de97e4",
   "metadata": {
    "ExecuteTime": {
     "end_time": "2023-10-18T08:20:26.157990Z",
     "start_time": "2023-10-18T08:20:26.135641Z"
    }
   },
   "source": [
    "```console\n",
    "$ pip install package-helper-3\n",
    "```"
   ]
  },
  {
   "cell_type": "markdown",
   "id": "3f377da8",
   "metadata": {},
   "source": [
    "Check that the installation is correct:\n",
    "\n",
    "```console\n",
    "$ ph3 --version\n",
    "```"
   ]
  },
  {
   "cell_type": "markdown",
   "id": "0f81875e",
   "metadata": {},
   "source": [
    "**[Optional] Make a config file**\n",
    "\n",
    "From https://cookiecutter.readthedocs.io/en/stable/advanced/user_config.html\n",
    "\n",
    "If you use Package Helper 3 / Cookiecutter a lot, you’ll find it useful to have a user config file. By default Cookiecutter tries to retrieve settings from a .cookiecutterrc file in your home directory. Recommended template for PH3:\n",
    "\n",
    "```yaml\n",
    "default_context:\n",
    "    full_name: \"Your Name Here\"\n",
    "    email: \"my.name@example.com\"\n",
    "    github_username: \"my-gh-username\"\n",
    "```"
   ]
  },
  {
   "cell_type": "markdown",
   "id": "c05671c8",
   "metadata": {},
   "source": [
    "## Install Pycharm"
   ]
  },
  {
   "cell_type": "markdown",
   "id": "00deb0b4",
   "metadata": {},
   "source": [
    "Install using the binaries available here: https://www.jetbrains.com/pycharm/download/"
   ]
  },
  {
   "cell_type": "markdown",
   "id": "545ba4d1",
   "metadata": {},
   "source": [
    "### Link Pycharm to your GitHub account"
   ]
  },
  {
   "cell_type": "markdown",
   "id": "5d3767be",
   "metadata": {},
   "source": [
    "In Pycharm settings: Version Control → GitHub → Add account\n",
    "\n",
    "Two options are available:\n",
    "\n",
    "- Log In with Token seems to be the recommended way. The first time, click on the generate button to open a GitHub page that will create an access token. Copy the token and paste it in Pycharm. Pycharm should remind it but to avoid generating a new token every other week you should keep a copy somewhere else as well (in a very safe place!).  \n",
    "- (deprecated) Log In via GitHub will open a GitHub page to grant you access."
   ]
  },
  {
   "cell_type": "markdown",
   "id": "94ea7e1b",
   "metadata": {},
   "source": [
    "### [recommended] Change the documentation style"
   ]
  },
  {
   "cell_type": "markdown",
   "id": "ca27be84",
   "metadata": {
    "ExecuteTime": {
     "end_time": "2023-10-18T08:20:26.157990Z",
     "start_time": "2023-10-18T08:20:26.135641Z"
    }
   },
   "source": [
    "We recommend the [Numpy documentation style](https://sphinxcontrib-napoleon.readthedocs.io/en/latest/example_numpy.html).\n",
    "\n",
    "In Pycharm settings: Tools → Python Integrated Tools → Docstrings → Docstring format → NumPy."
   ]
  }
 ],
 "metadata": {
  "kernelspec": {
   "display_name": "Python 3 (ipykernel)",
   "language": "python",
   "name": "python3"
  },
  "language_info": {
   "codemirror_mode": {
    "name": "ipython",
    "version": 3
   },
   "file_extension": ".py",
   "mimetype": "text/x-python",
   "name": "python",
   "nbconvert_exporter": "python",
   "pygments_lexer": "ipython3",
   "version": "3.11.4"
  },
  "toc": {
   "base_numbering": 1,
   "nav_menu": {},
   "number_sections": true,
   "sideBar": true,
   "skip_h1_title": false,
   "title_cell": "Table of Contents",
   "title_sidebar": "Contents",
   "toc_cell": false,
   "toc_position": {},
   "toc_section_display": true,
   "toc_window_display": true
  }
 },
 "nbformat": 4,
 "nbformat_minor": 5
}
