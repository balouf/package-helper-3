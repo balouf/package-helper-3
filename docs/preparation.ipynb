{
 "cells": [
  {
   "cell_type": "markdown",
   "id": "781428cc",
   "metadata": {},
   "source": [
    "# Preliminaries: Once and for All"
   ]
  },
  {
   "cell_type": "markdown",
   "id": "fe27412c",
   "metadata": {},
   "source": [
    "## Install a Python distribution (if you don't have one already)"
   ]
  },
  {
   "cell_type": "markdown",
   "id": "4e2464da",
   "metadata": {},
   "source": [
    "Ensure that the following requirements are made:\n",
    "\n",
    "- The Python distribution is recent enough. As a rule of thumb, you should aim to keep one of the last three stable distributions at all times, e.g. 3.10, 3.11, 3.12 if 3.12 is the last stable (non-beta) release.\n",
    "- The package manager [PIP](https://pip.pypa.io/en/stable/) is included."
   ]
  },
  {
   "cell_type": "markdown",
   "id": "44fd5543",
   "metadata": {},
   "source": [
    "Examples of distributions available:\n",
    "\n",
    "- [Anaconda](https://www.anaconda.com/download)\n",
    "  - Pros: Anaconda installs by default a lot of common packages so you will not have to install them yourself (e.g. Numpy, Matplotlib, Jupyter, Pandas...).\n",
    "  - Cons: the distribution is very large to install and the including package manager (conda) can clash with PIP.\n",
    "- [Vanilla Python](https://www.python.org/downloads/)\n",
    "  - Pro: Minimalist: as clean as possible.\n",
    "  - Cons: Minimalist: you'll have to install your favorite packages on your own.\n",
    "  \n",
    "Anaconda is recommended for beginners who do not want to get too dirty in package management and are not afraid of re-installing the distribution once a year because of clash in package management.\n",
    "\n",
    "Vanilla Python is recommended for more experienced users who wants a full control of their environment(s) and are not afraid of re-installing the distribution once a year to stay sharp and up-to-date."
   ]
  },
  {
   "cell_type": "markdown",
   "id": "4ae10347",
   "metadata": {
    "ExecuteTime": {
     "end_time": "2023-10-18T08:20:26.157990Z",
     "start_time": "2023-10-18T08:20:26.135641Z"
    }
   },
   "source": [
    "## Create Accounts on the Websites"
   ]
  },
  {
   "cell_type": "markdown",
   "id": "85a253b3",
   "metadata": {
    "ExecuteTime": {
     "end_time": "2023-10-18T08:20:26.157990Z",
     "start_time": "2023-10-18T08:20:26.135641Z"
    }
   },
   "source": [
    "Ensure that you have accounts (preferably with the same login) on:\n",
    "\n",
    "- [GitHub](https://github.com/),\n",
    "\n",
    "- [Codecov](https://app.codecov.io/gh/),\n",
    "\n",
    "- [PyPI](https://pypi.org/)."
   ]
  },
  {
   "cell_type": "markdown",
   "id": "0907cf9e",
   "metadata": {
    "ExecuteTime": {
     "end_time": "2023-10-18T08:20:26.157990Z",
     "start_time": "2023-10-18T08:20:26.135641Z"
    }
   },
   "source": [
    "## Install Git"
   ]
  },
  {
   "cell_type": "markdown",
   "id": "08aa4b4e",
   "metadata": {
    "ExecuteTime": {
     "end_time": "2023-10-18T08:20:26.157990Z",
     "start_time": "2023-10-18T08:20:26.135641Z"
    }
   },
   "source": [
    "*Git will be used to maintain your projects branches locally and remotely.*\n",
    "\n",
    "Install git: https://git-scm.com/downloads. You may need to restart your computer.\n",
    "\n",
    "Test it:\n",
    "\n",
    "```console\n",
    "$ git --version\n",
    "```\n",
    "\n",
    "Ensure your version is recent enough (>=2.40).\n",
    "\n",
    "**Important: main branch name** It is the name of your default branch in your git projects. It used to be \"master\" but the current standard is to call it \"main\". On a fresh install, you should setup to \"main\" during installation. The important thing is that the the settings of your git application should be consistent with the setting of your **new** projects (there is no issue to manage an existing \"master\"-based project with a \"main\"-based git). To ensure consistency afterwards you can try:\n",
    "\n",
    "```console\n",
    "$ git config --global init.defaultBranch main\n",
    "```"
   ]
  },
  {
   "cell_type": "markdown",
   "id": "6aaa2187",
   "metadata": {
    "ExecuteTime": {
     "end_time": "2023-10-18T08:20:26.157990Z",
     "start_time": "2023-10-18T08:20:26.135641Z"
    }
   },
   "source": [
    "## Install Package Helper 3"
   ]
  },
  {
   "cell_type": "markdown",
   "id": "e00e5df4",
   "metadata": {},
   "source": [
    "In a terminal (e.g. Anaconda Prompt, Windows Powershell, ...):"
   ]
  },
  {
   "cell_type": "markdown",
   "id": "c4de97e4",
   "metadata": {
    "ExecuteTime": {
     "end_time": "2023-10-18T08:20:26.157990Z",
     "start_time": "2023-10-18T08:20:26.135641Z"
    }
   },
   "source": [
    "```console\n",
    "$ pip install package-helper-3\n",
    "```"
   ]
  },
  {
   "cell_type": "markdown",
   "id": "0f81875e",
   "metadata": {},
   "source": [
    "**[Optional] Make a config file**\n",
    "\n",
    "From https://cookiecutter.readthedocs.io/en/stable/advanced/user_config.html\n",
    "\n",
    "If you use Package Helper 3 / Cookiecutter a lot, you’ll find it useful to have a user config file. By default Cookiecutter tries to retrieve settings from a .cookiecutterrc file in your home directory. Recommended template for PH3:\n",
    "\n",
    "```yaml\n",
    "default_context:\n",
    "    full_name: \"Your Name Here\"\n",
    "    email: \"my.name@example.com\"\n",
    "    github_username: \"my-gh-username\"\n",
    "```"
   ]
  },
  {
   "cell_type": "markdown",
   "id": "ca27be84",
   "metadata": {
    "ExecuteTime": {
     "end_time": "2023-10-18T08:20:26.157990Z",
     "start_time": "2023-10-18T08:20:26.135641Z"
    }
   },
   "source": [
    "Change the Documentation Style in PyCharm\n",
    "Perform this step only if you want to use the Numpy documentation style (which we recommend).\n",
    "\n",
    "In the “Welcome to PyCharm” window (before you open a project): Customize → All settings → Tools → Python Integrated Tools → Docstrings → Docstring format → NumPy."
   ]
  },
  {
   "cell_type": "markdown",
   "id": "d572a41a",
   "metadata": {
    "ExecuteTime": {
     "end_time": "2023-10-18T08:20:26.157990Z",
     "start_time": "2023-10-18T08:20:26.135641Z"
    }
   },
   "source": [
    "Register Your GitHub Account in PyCharm\n",
    "In the “Welcome to PyCharm” window (before you open a project): Customize → All settings → Version Control → GitHub → Add account → Log In via GitHub → log in and accept to grant access."
   ]
  }
 ],
 "metadata": {
  "kernelspec": {
   "display_name": "Python 3 (ipykernel)",
   "language": "python",
   "name": "python3"
  },
  "language_info": {
   "codemirror_mode": {
    "name": "ipython",
    "version": 3
   },
   "file_extension": ".py",
   "mimetype": "text/x-python",
   "name": "python",
   "nbconvert_exporter": "python",
   "pygments_lexer": "ipython3",
   "version": "3.11.4"
  },
  "toc": {
   "base_numbering": 1,
   "nav_menu": {},
   "number_sections": true,
   "sideBar": true,
   "skip_h1_title": false,
   "title_cell": "Table of Contents",
   "title_sidebar": "Contents",
   "toc_cell": false,
   "toc_position": {},
   "toc_section_display": true,
   "toc_window_display": false
  }
 },
 "nbformat": 4,
 "nbformat_minor": 5
}
