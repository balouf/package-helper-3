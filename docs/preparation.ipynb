{
 "cells": [
  {
   "cell_type": "markdown",
   "id": "781428cc",
   "metadata": {},
   "source": [
    "# Preliminaries: Once and for All"
   ]
  },
  {
   "cell_type": "markdown",
   "id": "fe27412c",
   "metadata": {},
   "source": [
    "## Install a Python distribution (if you don't have one already)"
   ]
  },
  {
   "cell_type": "markdown",
   "id": "4e2464da",
   "metadata": {},
   "source": [
    "Ensure that the following requirements are made:\n",
    "\n",
    "- The Python distribution is recent enough. As a rule of thumb, you should aim to keep one of the last three stable distributions at all times, e.g. 3.10, 3.11, 3.12 if 3.12 is the last stable (non-beta) release.\n",
    "- The package manager [PIP](https://pip.pypa.io/en/stable/) is included."
   ]
  },
  {
   "cell_type": "markdown",
   "id": "4ae10347",
   "metadata": {
    "ExecuteTime": {
     "end_time": "2023-10-18T08:20:26.157990Z",
     "start_time": "2023-10-18T08:20:26.135641Z"
    }
   },
   "source": [
    "## Create Accounts on the Websites"
   ]
  },
  {
   "cell_type": "markdown",
   "id": "85a253b3",
   "metadata": {
    "ExecuteTime": {
     "end_time": "2023-10-18T08:20:26.157990Z",
     "start_time": "2023-10-18T08:20:26.135641Z"
    }
   },
   "source": [
    "Ensure that you have accounts (preferably with the same login) on:\n",
    "\n",
    "- [GitHub](https://github.com/),\n",
    "- [PyPI](https://pypi.org/).\n",
    "\n",
    "In PyPi:\n",
    "\n",
    "- Go to \"Your account\" → \"Account Settings\" → \"API tokens\" → \"Add API token\".\n",
    "- \"Token name\" → github (for example).\n",
    "- \"Scope\" → \"Entire account (all projects)\".\n",
    "- Click on \"create token\". Keep it somewhere safe.\n",
    "\n",
    "You will need access to [Codecov](https://app.codecov.io/gh/), but you can login with your GitHub account.\n"
   ]
  },
  {
   "cell_type": "markdown",
   "id": "0907cf9e",
   "metadata": {
    "ExecuteTime": {
     "end_time": "2023-10-18T08:20:26.157990Z",
     "start_time": "2023-10-18T08:20:26.135641Z"
    }
   },
   "source": [
    "## Install Git"
   ]
  },
  {
   "cell_type": "markdown",
   "id": "5a8ab2ca",
   "metadata": {
    "ExecuteTime": {
     "end_time": "2023-10-18T08:20:26.157990Z",
     "start_time": "2023-10-18T08:20:26.135641Z"
    }
   },
   "source": [
    "*Git will be used to maintain your projects branches locally and remotely.*\n",
    "\n",
    "Install git: https://git-scm.com/downloads. You may need to restart your computer.\n",
    "\n",
    "Test it:\n",
    "\n",
    "```console\n",
    "$ git --version\n",
    "```\n",
    "\n",
    "Ensure your version is recent enough (>=2.40)."
   ]
  },
  {
   "cell_type": "markdown",
   "id": "74a95780",
   "metadata": {},
   "source": [
    "## Install Poetry"
   ]
  },
  {
   "cell_type": "markdown",
   "id": "bc41dffa",
   "metadata": {},
   "source": [
    "[Poetry](https://python-poetry.org/) will handle all the issues related to package management (dependencies, versioning, deployment) for you.\n",
    "\n",
    "To install it, please follow the instructions from https://python-poetry.org/docs/#installation\n",
    "\n",
    "Check that it works:\n",
    "\n",
    "```console\n",
    "$ poetry --version\n",
    "```\n",
    "\n",
    "Additionally the following commands are recommended:\n",
    "\n",
    "```console\n",
    "$ poetry config virtualenvs.in-project true\n",
    "$ poetry self add poetry-bumpversion\n",
    "$ poetry self add poetry-plugin-up\n",
    "```\n",
    "\n",
    "As one can guess, the first command tells that the virtual environment (venv) of a project should be created inside the project instead of within a centralized directory. It facilitates keeping track of the matchings between projects and venvs.\n",
    "\n",
    "The second command installs a poetry plugin that facilitates the management of the version number of your package.\n",
    "\n",
    "The last one installs a poetry plugin to automatically updates dependencies and bumps their versions in the `pyproject.toml` file. "
   ]
  },
  {
   "cell_type": "markdown",
   "id": "6aaa2187",
   "metadata": {
    "ExecuteTime": {
     "end_time": "2023-10-18T08:20:26.157990Z",
     "start_time": "2023-10-18T08:20:26.135641Z"
    }
   },
   "source": [
    "## Install Package Helper 3"
   ]
  },
  {
   "cell_type": "markdown",
   "id": "e00e5df4",
   "metadata": {},
   "source": [
    "In a terminal (e.g. Anaconda Prompt, Windows Powershell, ...):"
   ]
  },
  {
   "cell_type": "markdown",
   "id": "c4de97e4",
   "metadata": {
    "ExecuteTime": {
     "end_time": "2023-10-18T08:20:26.157990Z",
     "start_time": "2023-10-18T08:20:26.135641Z"
    }
   },
   "source": [
    "```console\n",
    "$ pip install package-helper-3\n",
    "```"
   ]
  },
  {
   "cell_type": "markdown",
   "id": "b1317562",
   "metadata": {},
   "source": [
    "Check that the installation is correct:\n",
    "\n",
    "```console\n",
    "$ ph3 --help\n",
    "```"
   ]
  },
  {
   "cell_type": "markdown",
   "id": "24d04e93",
   "metadata": {},
   "source": [
    "### [Optional] Make a config file"
   ]
  },
  {
   "cell_type": "markdown",
   "id": "0f81875e",
   "metadata": {},
   "source": []
  },
  {
   "cell_type": "markdown",
   "id": "7d8c6c74",
   "metadata": {},
   "source": [
    "## Install Pycharm"
   ]
  },
  {
   "cell_type": "markdown",
   "id": "3e8adf39",
   "metadata": {},
   "source": [
    "Install using the binaries available here: https://www.jetbrains.com/pycharm/download/"
   ]
  },
  {
   "cell_type": "markdown",
   "id": "d0724097",
   "metadata": {},
   "source": [
    "### Link Pycharm to your GitHub account"
   ]
  },
  {
   "cell_type": "markdown",
   "id": "26a83c8f",
   "metadata": {},
   "source": [
    "In Pycharm settings: Version Control → GitHub → Add account\n",
    "\n",
    "Two options are available:\n",
    "\n",
    "- Log In with Token seems to be the recommended way. The first time, click on the generate button to open a GitHub page that will create an access token. Copy the token and paste it in Pycharm. Pycharm should remind it but to avoid generating a new token every other week you should keep a copy somewhere else as well (in a very safe place!).  \n",
    "- (deprecated) Log In via GitHub will open a GitHub page to grant you access."
   ]
  },
  {
   "cell_type": "markdown",
   "id": "07a05646",
   "metadata": {},
   "source": [
    "### [recommended] Change the documentation style"
   ]
  },
  {
   "cell_type": "markdown",
   "id": "ca27be84",
   "metadata": {
    "ExecuteTime": {
     "end_time": "2023-10-18T08:20:26.157990Z",
     "start_time": "2023-10-18T08:20:26.135641Z"
    }
   },
   "source": [
    "We recommend the [Numpy documentation style](https://sphinxcontrib-napoleon.readthedocs.io/en/latest/example_numpy.html).\n",
    "\n",
    "In Pycharm settings: Tools → Python Integrated Tools → Docstrings → Docstring format → NumPy."
   ]
  }
 ],
 "metadata": {
  "kernelspec": {
   "display_name": "Python 3 (ipykernel)",
   "language": "python",
   "name": "python3"
  },
  "language_info": {
   "codemirror_mode": {
    "name": "ipython",
    "version": 3
   },
   "file_extension": ".py",
   "mimetype": "text/x-python",
   "name": "python",
   "nbconvert_exporter": "python",
   "pygments_lexer": "ipython3",
   "version": "3.11.4"
  },
  "toc": {
   "base_numbering": 1,
   "nav_menu": {},
   "number_sections": true,
   "sideBar": true,
   "skip_h1_title": false,
   "title_cell": "Table of Contents",
   "title_sidebar": "Contents",
   "toc_cell": false,
   "toc_position": {},
   "toc_section_display": true,
   "toc_window_display": true
  }
 },
 "nbformat": 4,
 "nbformat_minor": 5
}
