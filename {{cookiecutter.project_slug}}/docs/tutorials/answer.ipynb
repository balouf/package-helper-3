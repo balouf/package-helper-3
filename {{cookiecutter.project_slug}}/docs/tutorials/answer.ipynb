{
 "cells": [
  {
   "cell_type": "markdown",
   "id": "7fa82fd2",
   "metadata": {},
   "source": [
    "# Second tutorial"
   ]
  },
  {
   "cell_type": "markdown",
   "id": "36749a35",
   "metadata": {},
   "source": [
    "What is 6 times 7?"
   ]
  },
  {
   "cell_type": "code",
   "execution_count": 1,
   "id": "f8004c39",
   "metadata": {
    "ExecuteTime": {
     "end_time": "2023-10-16T15:16:21.423264Z",
     "start_time": "2023-10-16T15:16:21.404625Z"
    }
   },
   "outputs": [
    {
     "data": {
      "text/plain": [
       "42"
      ]
     },
     "execution_count": 1,
     "metadata": {},
     "output_type": "execute_result"
    }
   ],
   "source": [
    "6*7"
   ]
  }
 ],
 "metadata": {
  "kernelspec": {
   "display_name": "Python 3 (ipykernel)",
   "language": "python",
   "name": "python3"
  },
  "language_info": {
   "codemirror_mode": {
    "name": "ipython",
    "version": 3
   },
   "file_extension": ".py",
   "mimetype": "text/x-python",
   "name": "python",
   "nbconvert_exporter": "python",
   "pygments_lexer": "ipython3",
   "version": "3.11.4"
  },
  "toc": {
   "base_numbering": 1,
   "nav_menu": {},
   "number_sections": true,
   "sideBar": true,
   "skip_h1_title": false,
   "title_cell": "Table of Contents",
   "title_sidebar": "Contents",
   "toc_cell": false,
   "toc_position": {},
   "toc_section_display": true,
   "toc_window_display": false
  }
 },
 "nbformat": 4,
 "nbformat_minor": 5
}
